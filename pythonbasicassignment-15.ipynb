{
 "cells": [
  {
   "cell_type": "markdown",
   "id": "e42516ed",
   "metadata": {},
   "source": [
    "1.How many seconds are in an hour? Use the interactive interpreter as a calculator and multiply the\n",
    "number of seconds in a minute (60) by the number of minutes in an hour (also 60).\n",
    "sol. 60\n",
    "2. Assign the result from the previous task (seconds in an hour) to a variable called\n",
    "seconds_per_hour.\n",
    "3. How many seconds do you think there are in a day? Make use of the variables seconds per hour\n",
    "and minutes per hour.\n",
    "4. Calculate seconds per day again, but this time save the result in a variable called seconds_per_day\n",
    "5. Divide seconds_per_day by seconds_per_hour. Use floating-point (/) division.\n",
    "6. Divide seconds_per_day by seconds_per_hour, using integer (//) division. Did this number agree\n",
    "with the floating-point value from the previous question, aside from the final .0?\n",
    "7. Write a generator, genPrimes, that returns the sequence of prime numbers on successive calls to\n",
    "its next() method: 2, 3, 5, 7, 11, ..."
   ]
  },
  {
   "cell_type": "code",
   "execution_count": 10,
   "id": "ca121df5",
   "metadata": {},
   "outputs": [
    {
     "name": "stdout",
     "output_type": "stream",
     "text": [
      "60\n"
     ]
    }
   ],
   "source": [
    "hour=1\n",
    "minute =1\n",
    "seconds_in_a_minute  = minute*60\n",
    "print(seconds_in_a_minute)\n",
    "\n"
   ]
  },
  {
   "cell_type": "code",
   "execution_count": 9,
   "id": "e694c3c3",
   "metadata": {},
   "outputs": [
    {
     "name": "stdout",
     "output_type": "stream",
     "text": [
      "3600\n"
     ]
    }
   ],
   "source": [
    "hour=1\n",
    "minute =60\n",
    "seconds_in_an_hour = minute*60\n",
    "print(seconds_in_an_hour)\n"
   ]
  },
  {
   "cell_type": "code",
   "execution_count": 15,
   "id": "3da58e87",
   "metadata": {},
   "outputs": [
    {
     "name": "stdout",
     "output_type": "stream",
     "text": [
      "seconds in a day is : 86400\n",
      "seconds in an hour is: 3600\n",
      "24.0\n",
      "24\n"
     ]
    }
   ],
   "source": [
    "hours_in_day = 24\n",
    "\n",
    "minutes_in_a_day = 60*(hours_in_day)\n",
    "seconds_in_a_day = 60*(minutes_in_a_day)\n",
    "print(\"seconds in a day is :\",seconds_in_a_day)\n",
    "\n",
    "hour = 1\n",
    "minutes_in_an_hour = hour*60\n",
    "seconds_in_an_hour = (minutes_in_an_hour)*60\n",
    "print(\"seconds in an hour is:\",seconds_in_an_hour)\n",
    "\n",
    "print(seconds_in_a_day / seconds_in_an_hour )\n",
    "print(seconds_in_a_day // seconds_in_an_hour )\n"
   ]
  },
  {
   "cell_type": "code",
   "execution_count": 12,
   "id": "00d06a37",
   "metadata": {},
   "outputs": [
    {
     "name": "stdout",
     "output_type": "stream",
     "text": [
      "seconds in an hour is: 3600\n"
     ]
    }
   ],
   "source": [
    "hour = 1\n",
    "minutes_in_an_hour = hour*60\n",
    "seconds_in_an_hour = (minutes_in_an_hour)*60\n",
    "print(\"seconds in an hour is:\",seconds_in_an_hour)"
   ]
  },
  {
   "cell_type": "code",
   "execution_count": null,
   "id": "a09ff71b",
   "metadata": {},
   "outputs": [],
   "source": [
    "def genPrimes():\n",
    "    n = 0\n",
    "    while True:\n",
    "        if n == 2 or n == 3 :\n",
    "            yield n\n",
    "        elif ((n-1)%6 == 0 or (n+1)%6 == 0) and n !=1:\n",
    "            yield n\n",
    "        n = n+1\n",
    "        \n",
    "output = genPrimes()\n",
    "for ele in range(5):\n",
    "    print(next(output))"
   ]
  },
  {
   "cell_type": "code",
   "execution_count": null,
   "id": "f3d32a0e",
   "metadata": {},
   "outputs": [],
   "source": []
  },
  {
   "cell_type": "code",
   "execution_count": null,
   "id": "285d575a",
   "metadata": {},
   "outputs": [],
   "source": []
  }
 ],
 "metadata": {
  "kernelspec": {
   "display_name": "Python 3 (ipykernel)",
   "language": "python",
   "name": "python3"
  },
  "language_info": {
   "codemirror_mode": {
    "name": "ipython",
    "version": 3
   },
   "file_extension": ".py",
   "mimetype": "text/x-python",
   "name": "python",
   "nbconvert_exporter": "python",
   "pygments_lexer": "ipython3",
   "version": "3.9.12"
  }
 },
 "nbformat": 4,
 "nbformat_minor": 5
}
